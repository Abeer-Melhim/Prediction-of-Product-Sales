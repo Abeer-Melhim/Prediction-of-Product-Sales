{
  "nbformat": 4,
  "nbformat_minor": 0,
  "metadata": {
    "colab": {
      "provenance": [],
      "toc_visible": true,
      "authorship_tag": "ABX9TyOG9rYu8ysBCfpMmhbd8ZGb",
      "include_colab_link": true
    },
    "kernelspec": {
      "name": "python3",
      "display_name": "Python 3"
    },
    "language_info": {
      "name": "python"
    }
  },
  "cells": [
    {
      "cell_type": "markdown",
      "metadata": {
        "id": "view-in-github",
        "colab_type": "text"
      },
      "source": [
        "<a href=\"https://colab.research.google.com/github/Abeer-Melhim/Prediction-of-Product-Sales/blob/main/Prediction_of_Product_Sales.ipynb\" target=\"_parent\"><img src=\"https://colab.research.google.com/assets/colab-badge.svg\" alt=\"Open In Colab\"/></a>"
      ]
    },
    {
      "cell_type": "markdown",
      "source": [
        "#Project Title: (Prediction of Product Sales).\n",
        " - Author: Abeer Melhim"
      ],
      "metadata": {
        "id": "O9nEgJ2l9Hh5"
      }
    },
    {
      "cell_type": "markdown",
      "source": [
        "## \"Project Overview\""
      ],
      "metadata": {
        "id": "s5czaroL9gMJ"
      }
    },
    {
      "cell_type": "markdown",
      "source": [
        "## \"Load and Inspect Data\""
      ],
      "metadata": {
        "id": "0VDa3XPD9pT-"
      }
    },
    {
      "cell_type": "markdown",
      "source": [
        "## \"Clean Data\""
      ],
      "metadata": {
        "id": "CXHT8_3l9sOs"
      }
    },
    {
      "cell_type": "markdown",
      "source": [
        "## \"Exploratory Data Analysis\""
      ],
      "metadata": {
        "id": "evCmZooz92M_"
      }
    },
    {
      "cell_type": "markdown",
      "source": [
        "## \"Feature Inspection\""
      ],
      "metadata": {
        "id": "2QuejOpY93Jo"
      }
    }
  ]
}